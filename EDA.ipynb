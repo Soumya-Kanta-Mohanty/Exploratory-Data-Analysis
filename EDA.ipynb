{
 "cells": [
  {
   "cell_type": "code",
   "execution_count": 1,
   "id": "87c0a70e",
   "metadata": {
    "_cell_guid": "b1076dfc-b9ad-4769-8c92-a6c4dae69d19",
    "_uuid": "8f2839f25d086af736a60e9eeb907d3b93b6e0e5",
    "execution": {
     "iopub.execute_input": "2025-05-11T15:01:02.592076Z",
     "iopub.status.busy": "2025-05-11T15:01:02.591669Z",
     "iopub.status.idle": "2025-05-11T15:01:06.616776Z",
     "shell.execute_reply": "2025-05-11T15:01:06.615848Z"
    },
    "papermill": {
     "duration": 4.031605,
     "end_time": "2025-05-11T15:01:06.619070",
     "exception": false,
     "start_time": "2025-05-11T15:01:02.587465",
     "status": "completed"
    },
    "tags": []
   },
   "outputs": [],
   "source": [
    "import pandas as pd\n",
    "import numpy as np\n",
    "import matplotlib as plt\n",
    "import seaborn as sns\n",
    "plt.style.use('ggplot')"
   ]
  },
  {
   "cell_type": "code",
   "execution_count": 2,
   "id": "5fe897fd",
   "metadata": {
    "execution": {
     "iopub.execute_input": "2025-05-11T15:01:06.631341Z",
     "iopub.status.busy": "2025-05-11T15:01:06.630394Z",
     "iopub.status.idle": "2025-05-11T15:01:07.723000Z",
     "shell.execute_reply": "2025-05-11T15:01:07.722190Z"
    },
    "papermill": {
     "duration": 1.099525,
     "end_time": "2025-05-11T15:01:07.724783",
     "exception": false,
     "start_time": "2025-05-11T15:01:06.625258",
     "status": "completed"
    },
    "tags": []
   },
   "outputs": [],
   "source": [
    "df = pd.read_csv('/kaggle/input/bank-default/target.csv')"
   ]
  },
  {
   "cell_type": "code",
   "execution_count": 3,
   "id": "e940d576",
   "metadata": {
    "execution": {
     "iopub.execute_input": "2025-05-11T15:01:07.731840Z",
     "iopub.status.busy": "2025-05-11T15:01:07.731496Z",
     "iopub.status.idle": "2025-05-11T15:01:07.738591Z",
     "shell.execute_reply": "2025-05-11T15:01:07.737311Z"
    },
    "papermill": {
     "duration": 0.01254,
     "end_time": "2025-05-11T15:01:07.740092",
     "exception": false,
     "start_time": "2025-05-11T15:01:07.727552",
     "status": "completed"
    },
    "tags": []
   },
   "outputs": [
    {
     "data": {
      "text/plain": [
       "(3000000, 2)"
      ]
     },
     "execution_count": 3,
     "metadata": {},
     "output_type": "execute_result"
    }
   ],
   "source": [
    "df.shape"
   ]
  },
  {
   "cell_type": "code",
   "execution_count": 4,
   "id": "5fb4a978",
   "metadata": {
    "execution": {
     "iopub.execute_input": "2025-05-11T15:01:07.747363Z",
     "iopub.status.busy": "2025-05-11T15:01:07.746410Z",
     "iopub.status.idle": "2025-05-11T15:01:07.758437Z",
     "shell.execute_reply": "2025-05-11T15:01:07.757338Z"
    },
    "papermill": {
     "duration": 0.017246,
     "end_time": "2025-05-11T15:01:07.760053",
     "exception": false,
     "start_time": "2025-05-11T15:01:07.742807",
     "status": "completed"
    },
    "tags": []
   },
   "outputs": [
    {
     "data": {
      "text/plain": [
       "id      int64\n",
       "flag    int64\n",
       "dtype: object"
      ]
     },
     "execution_count": 4,
     "metadata": {},
     "output_type": "execute_result"
    }
   ],
   "source": [
    "df.dtypes"
   ]
  },
  {
   "cell_type": "code",
   "execution_count": 5,
   "id": "88328037",
   "metadata": {
    "execution": {
     "iopub.execute_input": "2025-05-11T15:01:07.766793Z",
     "iopub.status.busy": "2025-05-11T15:01:07.766484Z",
     "iopub.status.idle": "2025-05-11T15:01:07.937547Z",
     "shell.execute_reply": "2025-05-11T15:01:07.936475Z"
    },
    "papermill": {
     "duration": 0.176378,
     "end_time": "2025-05-11T15:01:07.939279",
     "exception": false,
     "start_time": "2025-05-11T15:01:07.762901",
     "status": "completed"
    },
    "tags": []
   },
   "outputs": [
    {
     "data": {
      "text/html": [
       "<div>\n",
       "<style scoped>\n",
       "    .dataframe tbody tr th:only-of-type {\n",
       "        vertical-align: middle;\n",
       "    }\n",
       "\n",
       "    .dataframe tbody tr th {\n",
       "        vertical-align: top;\n",
       "    }\n",
       "\n",
       "    .dataframe thead th {\n",
       "        text-align: right;\n",
       "    }\n",
       "</style>\n",
       "<table border=\"1\" class=\"dataframe\">\n",
       "  <thead>\n",
       "    <tr style=\"text-align: right;\">\n",
       "      <th></th>\n",
       "      <th>id</th>\n",
       "      <th>flag</th>\n",
       "    </tr>\n",
       "  </thead>\n",
       "  <tbody>\n",
       "    <tr>\n",
       "      <th>count</th>\n",
       "      <td>3.000000e+06</td>\n",
       "      <td>3.000000e+06</td>\n",
       "    </tr>\n",
       "    <tr>\n",
       "      <th>mean</th>\n",
       "      <td>1.500000e+06</td>\n",
       "      <td>3.548067e-02</td>\n",
       "    </tr>\n",
       "    <tr>\n",
       "      <th>std</th>\n",
       "      <td>8.660255e+05</td>\n",
       "      <td>1.849914e-01</td>\n",
       "    </tr>\n",
       "    <tr>\n",
       "      <th>min</th>\n",
       "      <td>0.000000e+00</td>\n",
       "      <td>0.000000e+00</td>\n",
       "    </tr>\n",
       "    <tr>\n",
       "      <th>25%</th>\n",
       "      <td>7.499998e+05</td>\n",
       "      <td>0.000000e+00</td>\n",
       "    </tr>\n",
       "    <tr>\n",
       "      <th>50%</th>\n",
       "      <td>1.500000e+06</td>\n",
       "      <td>0.000000e+00</td>\n",
       "    </tr>\n",
       "    <tr>\n",
       "      <th>75%</th>\n",
       "      <td>2.249999e+06</td>\n",
       "      <td>0.000000e+00</td>\n",
       "    </tr>\n",
       "    <tr>\n",
       "      <th>max</th>\n",
       "      <td>2.999999e+06</td>\n",
       "      <td>1.000000e+00</td>\n",
       "    </tr>\n",
       "  </tbody>\n",
       "</table>\n",
       "</div>"
      ],
      "text/plain": [
       "                 id          flag\n",
       "count  3.000000e+06  3.000000e+06\n",
       "mean   1.500000e+06  3.548067e-02\n",
       "std    8.660255e+05  1.849914e-01\n",
       "min    0.000000e+00  0.000000e+00\n",
       "25%    7.499998e+05  0.000000e+00\n",
       "50%    1.500000e+06  0.000000e+00\n",
       "75%    2.249999e+06  0.000000e+00\n",
       "max    2.999999e+06  1.000000e+00"
      ]
     },
     "execution_count": 5,
     "metadata": {},
     "output_type": "execute_result"
    }
   ],
   "source": [
    "df.describe()"
   ]
  },
  {
   "cell_type": "code",
   "execution_count": 6,
   "id": "1b54bec7",
   "metadata": {
    "execution": {
     "iopub.execute_input": "2025-05-11T15:01:07.946215Z",
     "iopub.status.busy": "2025-05-11T15:01:07.945838Z",
     "iopub.status.idle": "2025-05-11T15:01:07.959848Z",
     "shell.execute_reply": "2025-05-11T15:01:07.958891Z"
    },
    "papermill": {
     "duration": 0.019251,
     "end_time": "2025-05-11T15:01:07.961550",
     "exception": false,
     "start_time": "2025-05-11T15:01:07.942299",
     "status": "completed"
    },
    "tags": []
   },
   "outputs": [
    {
     "data": {
      "text/html": [
       "<div>\n",
       "<style scoped>\n",
       "    .dataframe tbody tr th:only-of-type {\n",
       "        vertical-align: middle;\n",
       "    }\n",
       "\n",
       "    .dataframe tbody tr th {\n",
       "        vertical-align: top;\n",
       "    }\n",
       "\n",
       "    .dataframe thead th {\n",
       "        text-align: right;\n",
       "    }\n",
       "</style>\n",
       "<table border=\"1\" class=\"dataframe\">\n",
       "  <thead>\n",
       "    <tr style=\"text-align: right;\">\n",
       "      <th></th>\n",
       "      <th>id</th>\n",
       "      <th>flag</th>\n",
       "    </tr>\n",
       "  </thead>\n",
       "  <tbody>\n",
       "    <tr>\n",
       "      <th>0</th>\n",
       "      <td>False</td>\n",
       "      <td>False</td>\n",
       "    </tr>\n",
       "    <tr>\n",
       "      <th>1</th>\n",
       "      <td>False</td>\n",
       "      <td>False</td>\n",
       "    </tr>\n",
       "    <tr>\n",
       "      <th>2</th>\n",
       "      <td>False</td>\n",
       "      <td>False</td>\n",
       "    </tr>\n",
       "    <tr>\n",
       "      <th>3</th>\n",
       "      <td>False</td>\n",
       "      <td>False</td>\n",
       "    </tr>\n",
       "    <tr>\n",
       "      <th>4</th>\n",
       "      <td>False</td>\n",
       "      <td>False</td>\n",
       "    </tr>\n",
       "    <tr>\n",
       "      <th>...</th>\n",
       "      <td>...</td>\n",
       "      <td>...</td>\n",
       "    </tr>\n",
       "    <tr>\n",
       "      <th>2999995</th>\n",
       "      <td>False</td>\n",
       "      <td>False</td>\n",
       "    </tr>\n",
       "    <tr>\n",
       "      <th>2999996</th>\n",
       "      <td>False</td>\n",
       "      <td>False</td>\n",
       "    </tr>\n",
       "    <tr>\n",
       "      <th>2999997</th>\n",
       "      <td>False</td>\n",
       "      <td>False</td>\n",
       "    </tr>\n",
       "    <tr>\n",
       "      <th>2999998</th>\n",
       "      <td>False</td>\n",
       "      <td>False</td>\n",
       "    </tr>\n",
       "    <tr>\n",
       "      <th>2999999</th>\n",
       "      <td>False</td>\n",
       "      <td>False</td>\n",
       "    </tr>\n",
       "  </tbody>\n",
       "</table>\n",
       "<p>3000000 rows × 2 columns</p>\n",
       "</div>"
      ],
      "text/plain": [
       "            id   flag\n",
       "0        False  False\n",
       "1        False  False\n",
       "2        False  False\n",
       "3        False  False\n",
       "4        False  False\n",
       "...        ...    ...\n",
       "2999995  False  False\n",
       "2999996  False  False\n",
       "2999997  False  False\n",
       "2999998  False  False\n",
       "2999999  False  False\n",
       "\n",
       "[3000000 rows x 2 columns]"
      ]
     },
     "execution_count": 6,
     "metadata": {},
     "output_type": "execute_result"
    }
   ],
   "source": [
    "df.isna()"
   ]
  },
  {
   "cell_type": "code",
   "execution_count": 7,
   "id": "06d3a022",
   "metadata": {
    "execution": {
     "iopub.execute_input": "2025-05-11T15:01:07.969770Z",
     "iopub.status.busy": "2025-05-11T15:01:07.969439Z",
     "iopub.status.idle": "2025-05-11T15:01:07.985196Z",
     "shell.execute_reply": "2025-05-11T15:01:07.984195Z"
    },
    "papermill": {
     "duration": 0.021003,
     "end_time": "2025-05-11T15:01:07.986808",
     "exception": false,
     "start_time": "2025-05-11T15:01:07.965805",
     "status": "completed"
    },
    "tags": []
   },
   "outputs": [
    {
     "data": {
      "text/plain": [
       "id      0\n",
       "flag    0\n",
       "dtype: int64"
      ]
     },
     "execution_count": 7,
     "metadata": {},
     "output_type": "execute_result"
    }
   ],
   "source": [
    "df.isna().sum()"
   ]
  },
  {
   "cell_type": "code",
   "execution_count": 8,
   "id": "31c29f64",
   "metadata": {
    "execution": {
     "iopub.execute_input": "2025-05-11T15:01:07.994070Z",
     "iopub.status.busy": "2025-05-11T15:01:07.993761Z",
     "iopub.status.idle": "2025-05-11T15:01:08.630582Z",
     "shell.execute_reply": "2025-05-11T15:01:08.629510Z"
    },
    "papermill": {
     "duration": 0.642197,
     "end_time": "2025-05-11T15:01:08.632115",
     "exception": false,
     "start_time": "2025-05-11T15:01:07.989918",
     "status": "completed"
    },
    "tags": []
   },
   "outputs": [
    {
     "data": {
      "text/html": [
       "<div>\n",
       "<style scoped>\n",
       "    .dataframe tbody tr th:only-of-type {\n",
       "        vertical-align: middle;\n",
       "    }\n",
       "\n",
       "    .dataframe tbody tr th {\n",
       "        vertical-align: top;\n",
       "    }\n",
       "\n",
       "    .dataframe thead th {\n",
       "        text-align: right;\n",
       "    }\n",
       "</style>\n",
       "<table border=\"1\" class=\"dataframe\">\n",
       "  <thead>\n",
       "    <tr style=\"text-align: right;\">\n",
       "      <th></th>\n",
       "      <th>id</th>\n",
       "      <th>flag</th>\n",
       "    </tr>\n",
       "  </thead>\n",
       "  <tbody>\n",
       "  </tbody>\n",
       "</table>\n",
       "</div>"
      ],
      "text/plain": [
       "Empty DataFrame\n",
       "Columns: [id, flag]\n",
       "Index: []"
      ]
     },
     "execution_count": 8,
     "metadata": {},
     "output_type": "execute_result"
    }
   ],
   "source": [
    "df.loc[df.duplicated()]"
   ]
  },
  {
   "cell_type": "code",
   "execution_count": 9,
   "id": "78115c23",
   "metadata": {
    "execution": {
     "iopub.execute_input": "2025-05-11T15:01:08.639775Z",
     "iopub.status.busy": "2025-05-11T15:01:08.639502Z",
     "iopub.status.idle": "2025-05-11T15:01:09.547777Z",
     "shell.execute_reply": "2025-05-11T15:01:09.546756Z"
    },
    "papermill": {
     "duration": 0.914035,
     "end_time": "2025-05-11T15:01:09.549507",
     "exception": false,
     "start_time": "2025-05-11T15:01:08.635472",
     "status": "completed"
    },
    "tags": []
   },
   "outputs": [
    {
     "data": {
      "text/plain": [
       "<Axes: xlabel='id'>"
      ]
     },
     "execution_count": 9,
     "metadata": {},
     "output_type": "execute_result"
    },
    {
     "data": {
      "image/png": "[encoded data removed]",
      "text/plain": [
       "<Figure size 640x480 with 1 Axes>"
      ]
     },
     "metadata": {},
     "output_type": "display_data"
    }
   ],
   "source": [
    "df['id'].value_counts().head(10).plot(kind='bar')"
   ]
  },
  {
   "cell_type": "code",
   "execution_count": 10,
   "id": "5be88a4d",
   "metadata": {
    "execution": {
     "iopub.execute_input": "2025-05-11T15:01:09.558140Z",
     "iopub.status.busy": "2025-05-11T15:01:09.557539Z",
     "iopub.status.idle": "2025-05-11T15:01:17.605195Z",
     "shell.execute_reply": "2025-05-11T15:01:17.604308Z"
    },
    "papermill": {
     "duration": 8.053464,
     "end_time": "2025-05-11T15:01:17.606700",
     "exception": false,
     "start_time": "2025-05-11T15:01:09.553236",
     "status": "completed"
    },
    "tags": []
   },
   "outputs": [
    {
     "data": {
      "text/plain": [
       "<Axes: xlabel='id', ylabel='flag'>"
      ]
     },
     "execution_count": 10,
     "metadata": {},
     "output_type": "execute_result"
    },
    {
     "data": {
      "image/png": "[encoded data removed]",
      "text/plain": [
       "<Figure size 640x480 with 1 Axes>"
      ]
     },
     "metadata": {},
     "output_type": "display_data"
    }
   ],
   "source": [
    "df.plot(kind= 'scatter', x='id', y='flag')"
   ]
  }
 ],
 "metadata": {
  "kaggle": {
   "accelerator": "none",
   "dataSources": [
    {
     "datasetId": 7372058,
     "sourceId": 11743571,
     "sourceType": "datasetVersion"
    }
   ],
   "dockerImageVersionId": 31012,
   "isGpuEnabled": false,
   "isInternetEnabled": false,
   "language": "python",
   "sourceType": "notebook"
  },
  "kernelspec": {
   "display_name": "Python 3",
   "language": "python",
   "name": "python3"
  },
  "language_info": {
   "codemirror_mode": {
    "name": "ipython",
    "version": 3
   },
   "file_extension": ".py",
   "mimetype": "text/x-python",
   "name": "python",
   "nbconvert_exporter": "python",
   "pygments_lexer": "ipython3",
   "version": "3.11.11"
  },
  "papermill": {
   "default_parameters": {},
   "duration": 20.659578,
   "end_time": "2025-05-11T15:01:18.330014",
   "environment_variables": {},
   "exception": null,
   "input_path": "__notebook__.ipynb",
   "output_path": "__notebook__.ipynb",
   "parameters": {},
   "start_time": "2025-05-11T15:00:57.670436",
   "version": "2.6.0"
  }
 },
 "nbformat": 4,
 "nbformat_minor": 5
}
